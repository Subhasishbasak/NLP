{
  "nbformat": 4,
  "nbformat_minor": 0,
  "metadata": {
    "kernelspec": {
      "name": "python3",
      "display_name": "Python 3"
    },
    "language_info": {
      "codemirror_mode": {
        "name": "ipython",
        "version": 3
      },
      "file_extension": ".py",
      "mimetype": "text/x-python",
      "name": "python",
      "nbconvert_exporter": "python",
      "pygments_lexer": "ipython3",
      "version": "3.6.9"
    },
    "colab": {
      "name": "Sentiment_analysis.ipynb",
      "provenance": [],
      "collapsed_sections": [],
      "include_colab_link": true
    },
    "widgets": {
      "application/vnd.jupyter.widget-state+json": {
        "6f85d8461dbf442f802787bfe4725a2d": {
          "model_module": "@jupyter-widgets/controls",
          "model_name": "HBoxModel",
          "state": {
            "_view_name": "HBoxView",
            "_dom_classes": [],
            "_model_name": "HBoxModel",
            "_view_module": "@jupyter-widgets/controls",
            "_model_module_version": "1.5.0",
            "_view_count": null,
            "_view_module_version": "1.5.0",
            "box_style": "",
            "layout": "IPY_MODEL_0fc5a246e1874fea8d49ed47a0b55fe1",
            "_model_module": "@jupyter-widgets/controls",
            "children": [
              "IPY_MODEL_d1bf9b8cec7c49ef9535aefb4801c96e",
              "IPY_MODEL_ca92dd0ceed241d4abf22e796c917343"
            ]
          }
        },
        "0fc5a246e1874fea8d49ed47a0b55fe1": {
          "model_module": "@jupyter-widgets/base",
          "model_name": "LayoutModel",
          "state": {
            "_view_name": "LayoutView",
            "grid_template_rows": null,
            "right": null,
            "justify_content": null,
            "_view_module": "@jupyter-widgets/base",
            "overflow": null,
            "_model_module_version": "1.2.0",
            "_view_count": null,
            "flex_flow": null,
            "width": null,
            "min_width": null,
            "border": null,
            "align_items": null,
            "bottom": null,
            "_model_module": "@jupyter-widgets/base",
            "top": null,
            "grid_column": null,
            "overflow_y": null,
            "overflow_x": null,
            "grid_auto_flow": null,
            "grid_area": null,
            "grid_template_columns": null,
            "flex": null,
            "_model_name": "LayoutModel",
            "justify_items": null,
            "grid_row": null,
            "max_height": null,
            "align_content": null,
            "visibility": null,
            "align_self": null,
            "height": null,
            "min_height": null,
            "padding": null,
            "grid_auto_rows": null,
            "grid_gap": null,
            "max_width": null,
            "order": null,
            "_view_module_version": "1.2.0",
            "grid_template_areas": null,
            "object_position": null,
            "object_fit": null,
            "grid_auto_columns": null,
            "margin": null,
            "display": null,
            "left": null
          }
        },
        "d1bf9b8cec7c49ef9535aefb4801c96e": {
          "model_module": "@jupyter-widgets/controls",
          "model_name": "IntProgressModel",
          "state": {
            "_view_name": "ProgressView",
            "style": "IPY_MODEL_3fc38e85ec9045988f787fdcb956a8ac",
            "_dom_classes": [],
            "description": "100%",
            "_model_name": "IntProgressModel",
            "bar_style": "success",
            "max": 25000,
            "_view_module": "@jupyter-widgets/controls",
            "_model_module_version": "1.5.0",
            "value": 25000,
            "_view_count": null,
            "_view_module_version": "1.5.0",
            "orientation": "horizontal",
            "min": 0,
            "description_tooltip": null,
            "_model_module": "@jupyter-widgets/controls",
            "layout": "IPY_MODEL_e7c14601404c40a081a82e3d5ead99d8"
          }
        },
        "ca92dd0ceed241d4abf22e796c917343": {
          "model_module": "@jupyter-widgets/controls",
          "model_name": "HTMLModel",
          "state": {
            "_view_name": "HTMLView",
            "style": "IPY_MODEL_31330c9c0fb3418b96f12f5b961c110e",
            "_dom_classes": [],
            "description": "",
            "_model_name": "HTMLModel",
            "placeholder": "​",
            "_view_module": "@jupyter-widgets/controls",
            "_model_module_version": "1.5.0",
            "value": " 25000/25000 [52:07&lt;00:00,  7.99it/s]",
            "_view_count": null,
            "_view_module_version": "1.5.0",
            "description_tooltip": null,
            "_model_module": "@jupyter-widgets/controls",
            "layout": "IPY_MODEL_c4741a9c5a7a492e90b281df7331f6ed"
          }
        },
        "3fc38e85ec9045988f787fdcb956a8ac": {
          "model_module": "@jupyter-widgets/controls",
          "model_name": "ProgressStyleModel",
          "state": {
            "_view_name": "StyleView",
            "_model_name": "ProgressStyleModel",
            "description_width": "initial",
            "_view_module": "@jupyter-widgets/base",
            "_model_module_version": "1.5.0",
            "_view_count": null,
            "_view_module_version": "1.2.0",
            "bar_color": null,
            "_model_module": "@jupyter-widgets/controls"
          }
        },
        "e7c14601404c40a081a82e3d5ead99d8": {
          "model_module": "@jupyter-widgets/base",
          "model_name": "LayoutModel",
          "state": {
            "_view_name": "LayoutView",
            "grid_template_rows": null,
            "right": null,
            "justify_content": null,
            "_view_module": "@jupyter-widgets/base",
            "overflow": null,
            "_model_module_version": "1.2.0",
            "_view_count": null,
            "flex_flow": null,
            "width": null,
            "min_width": null,
            "border": null,
            "align_items": null,
            "bottom": null,
            "_model_module": "@jupyter-widgets/base",
            "top": null,
            "grid_column": null,
            "overflow_y": null,
            "overflow_x": null,
            "grid_auto_flow": null,
            "grid_area": null,
            "grid_template_columns": null,
            "flex": null,
            "_model_name": "LayoutModel",
            "justify_items": null,
            "grid_row": null,
            "max_height": null,
            "align_content": null,
            "visibility": null,
            "align_self": null,
            "height": null,
            "min_height": null,
            "padding": null,
            "grid_auto_rows": null,
            "grid_gap": null,
            "max_width": null,
            "order": null,
            "_view_module_version": "1.2.0",
            "grid_template_areas": null,
            "object_position": null,
            "object_fit": null,
            "grid_auto_columns": null,
            "margin": null,
            "display": null,
            "left": null
          }
        },
        "31330c9c0fb3418b96f12f5b961c110e": {
          "model_module": "@jupyter-widgets/controls",
          "model_name": "DescriptionStyleModel",
          "state": {
            "_view_name": "StyleView",
            "_model_name": "DescriptionStyleModel",
            "description_width": "",
            "_view_module": "@jupyter-widgets/base",
            "_model_module_version": "1.5.0",
            "_view_count": null,
            "_view_module_version": "1.2.0",
            "_model_module": "@jupyter-widgets/controls"
          }
        },
        "c4741a9c5a7a492e90b281df7331f6ed": {
          "model_module": "@jupyter-widgets/base",
          "model_name": "LayoutModel",
          "state": {
            "_view_name": "LayoutView",
            "grid_template_rows": null,
            "right": null,
            "justify_content": null,
            "_view_module": "@jupyter-widgets/base",
            "overflow": null,
            "_model_module_version": "1.2.0",
            "_view_count": null,
            "flex_flow": null,
            "width": null,
            "min_width": null,
            "border": null,
            "align_items": null,
            "bottom": null,
            "_model_module": "@jupyter-widgets/base",
            "top": null,
            "grid_column": null,
            "overflow_y": null,
            "overflow_x": null,
            "grid_auto_flow": null,
            "grid_area": null,
            "grid_template_columns": null,
            "flex": null,
            "_model_name": "LayoutModel",
            "justify_items": null,
            "grid_row": null,
            "max_height": null,
            "align_content": null,
            "visibility": null,
            "align_self": null,
            "height": null,
            "min_height": null,
            "padding": null,
            "grid_auto_rows": null,
            "grid_gap": null,
            "max_width": null,
            "order": null,
            "_view_module_version": "1.2.0",
            "grid_template_areas": null,
            "object_position": null,
            "object_fit": null,
            "grid_auto_columns": null,
            "margin": null,
            "display": null,
            "left": null
          }
        },
        "699ed8d30f1441daa7b7f751001b270f": {
          "model_module": "@jupyter-widgets/controls",
          "model_name": "HBoxModel",
          "state": {
            "_view_name": "HBoxView",
            "_dom_classes": [],
            "_model_name": "HBoxModel",
            "_view_module": "@jupyter-widgets/controls",
            "_model_module_version": "1.5.0",
            "_view_count": null,
            "_view_module_version": "1.5.0",
            "box_style": "",
            "layout": "IPY_MODEL_a9224877838c4eb686b1c4646a1abba8",
            "_model_module": "@jupyter-widgets/controls",
            "children": [
              "IPY_MODEL_8ff370890d0f4ef2964138d3433b3cb5",
              "IPY_MODEL_e72f3423e33e409f9414017f5c3ee8aa"
            ]
          }
        },
        "a9224877838c4eb686b1c4646a1abba8": {
          "model_module": "@jupyter-widgets/base",
          "model_name": "LayoutModel",
          "state": {
            "_view_name": "LayoutView",
            "grid_template_rows": null,
            "right": null,
            "justify_content": null,
            "_view_module": "@jupyter-widgets/base",
            "overflow": null,
            "_model_module_version": "1.2.0",
            "_view_count": null,
            "flex_flow": null,
            "width": null,
            "min_width": null,
            "border": null,
            "align_items": null,
            "bottom": null,
            "_model_module": "@jupyter-widgets/base",
            "top": null,
            "grid_column": null,
            "overflow_y": null,
            "overflow_x": null,
            "grid_auto_flow": null,
            "grid_area": null,
            "grid_template_columns": null,
            "flex": null,
            "_model_name": "LayoutModel",
            "justify_items": null,
            "grid_row": null,
            "max_height": null,
            "align_content": null,
            "visibility": null,
            "align_self": null,
            "height": null,
            "min_height": null,
            "padding": null,
            "grid_auto_rows": null,
            "grid_gap": null,
            "max_width": null,
            "order": null,
            "_view_module_version": "1.2.0",
            "grid_template_areas": null,
            "object_position": null,
            "object_fit": null,
            "grid_auto_columns": null,
            "margin": null,
            "display": null,
            "left": null
          }
        },
        "8ff370890d0f4ef2964138d3433b3cb5": {
          "model_module": "@jupyter-widgets/controls",
          "model_name": "IntProgressModel",
          "state": {
            "_view_name": "ProgressView",
            "style": "IPY_MODEL_5eab6b3c10434f2684876cfcf02109e2",
            "_dom_classes": [],
            "description": "100%",
            "_model_name": "IntProgressModel",
            "bar_style": "success",
            "max": 25000,
            "_view_module": "@jupyter-widgets/controls",
            "_model_module_version": "1.5.0",
            "value": 25000,
            "_view_count": null,
            "_view_module_version": "1.5.0",
            "orientation": "horizontal",
            "min": 0,
            "description_tooltip": null,
            "_model_module": "@jupyter-widgets/controls",
            "layout": "IPY_MODEL_e546e149df5944109baca791d6f1d87f"
          }
        },
        "e72f3423e33e409f9414017f5c3ee8aa": {
          "model_module": "@jupyter-widgets/controls",
          "model_name": "HTMLModel",
          "state": {
            "_view_name": "HTMLView",
            "style": "IPY_MODEL_4ba7adbe4e7744ddb6ca7c4ec90a505f",
            "_dom_classes": [],
            "description": "",
            "_model_name": "HTMLModel",
            "placeholder": "​",
            "_view_module": "@jupyter-widgets/controls",
            "_model_module_version": "1.5.0",
            "value": " 25000/25000 [04:29&lt;00:00, 92.76it/s]",
            "_view_count": null,
            "_view_module_version": "1.5.0",
            "description_tooltip": null,
            "_model_module": "@jupyter-widgets/controls",
            "layout": "IPY_MODEL_350d0af6beef457abe6045e012334ffe"
          }
        },
        "5eab6b3c10434f2684876cfcf02109e2": {
          "model_module": "@jupyter-widgets/controls",
          "model_name": "ProgressStyleModel",
          "state": {
            "_view_name": "StyleView",
            "_model_name": "ProgressStyleModel",
            "description_width": "initial",
            "_view_module": "@jupyter-widgets/base",
            "_model_module_version": "1.5.0",
            "_view_count": null,
            "_view_module_version": "1.2.0",
            "bar_color": null,
            "_model_module": "@jupyter-widgets/controls"
          }
        },
        "e546e149df5944109baca791d6f1d87f": {
          "model_module": "@jupyter-widgets/base",
          "model_name": "LayoutModel",
          "state": {
            "_view_name": "LayoutView",
            "grid_template_rows": null,
            "right": null,
            "justify_content": null,
            "_view_module": "@jupyter-widgets/base",
            "overflow": null,
            "_model_module_version": "1.2.0",
            "_view_count": null,
            "flex_flow": null,
            "width": null,
            "min_width": null,
            "border": null,
            "align_items": null,
            "bottom": null,
            "_model_module": "@jupyter-widgets/base",
            "top": null,
            "grid_column": null,
            "overflow_y": null,
            "overflow_x": null,
            "grid_auto_flow": null,
            "grid_area": null,
            "grid_template_columns": null,
            "flex": null,
            "_model_name": "LayoutModel",
            "justify_items": null,
            "grid_row": null,
            "max_height": null,
            "align_content": null,
            "visibility": null,
            "align_self": null,
            "height": null,
            "min_height": null,
            "padding": null,
            "grid_auto_rows": null,
            "grid_gap": null,
            "max_width": null,
            "order": null,
            "_view_module_version": "1.2.0",
            "grid_template_areas": null,
            "object_position": null,
            "object_fit": null,
            "grid_auto_columns": null,
            "margin": null,
            "display": null,
            "left": null
          }
        },
        "4ba7adbe4e7744ddb6ca7c4ec90a505f": {
          "model_module": "@jupyter-widgets/controls",
          "model_name": "DescriptionStyleModel",
          "state": {
            "_view_name": "StyleView",
            "_model_name": "DescriptionStyleModel",
            "description_width": "",
            "_view_module": "@jupyter-widgets/base",
            "_model_module_version": "1.5.0",
            "_view_count": null,
            "_view_module_version": "1.2.0",
            "_model_module": "@jupyter-widgets/controls"
          }
        },
        "350d0af6beef457abe6045e012334ffe": {
          "model_module": "@jupyter-widgets/base",
          "model_name": "LayoutModel",
          "state": {
            "_view_name": "LayoutView",
            "grid_template_rows": null,
            "right": null,
            "justify_content": null,
            "_view_module": "@jupyter-widgets/base",
            "overflow": null,
            "_model_module_version": "1.2.0",
            "_view_count": null,
            "flex_flow": null,
            "width": null,
            "min_width": null,
            "border": null,
            "align_items": null,
            "bottom": null,
            "_model_module": "@jupyter-widgets/base",
            "top": null,
            "grid_column": null,
            "overflow_y": null,
            "overflow_x": null,
            "grid_auto_flow": null,
            "grid_area": null,
            "grid_template_columns": null,
            "flex": null,
            "_model_name": "LayoutModel",
            "justify_items": null,
            "grid_row": null,
            "max_height": null,
            "align_content": null,
            "visibility": null,
            "align_self": null,
            "height": null,
            "min_height": null,
            "padding": null,
            "grid_auto_rows": null,
            "grid_gap": null,
            "max_width": null,
            "order": null,
            "_view_module_version": "1.2.0",
            "grid_template_areas": null,
            "object_position": null,
            "object_fit": null,
            "grid_auto_columns": null,
            "margin": null,
            "display": null,
            "left": null
          }
        },
        "0fb42f4eb1794595ac0200057a95037a": {
          "model_module": "@jupyter-widgets/controls",
          "model_name": "HBoxModel",
          "state": {
            "_view_name": "HBoxView",
            "_dom_classes": [],
            "_model_name": "HBoxModel",
            "_view_module": "@jupyter-widgets/controls",
            "_model_module_version": "1.5.0",
            "_view_count": null,
            "_view_module_version": "1.5.0",
            "box_style": "",
            "layout": "IPY_MODEL_439170b799a047839f727f764490c290",
            "_model_module": "@jupyter-widgets/controls",
            "children": [
              "IPY_MODEL_7ad417c56c83492a8de9ba8baf2856c4",
              "IPY_MODEL_e5e4f48ae0d54ebca233db4667e86fdf"
            ]
          }
        },
        "439170b799a047839f727f764490c290": {
          "model_module": "@jupyter-widgets/base",
          "model_name": "LayoutModel",
          "state": {
            "_view_name": "LayoutView",
            "grid_template_rows": null,
            "right": null,
            "justify_content": null,
            "_view_module": "@jupyter-widgets/base",
            "overflow": null,
            "_model_module_version": "1.2.0",
            "_view_count": null,
            "flex_flow": null,
            "width": null,
            "min_width": null,
            "border": null,
            "align_items": null,
            "bottom": null,
            "_model_module": "@jupyter-widgets/base",
            "top": null,
            "grid_column": null,
            "overflow_y": null,
            "overflow_x": null,
            "grid_auto_flow": null,
            "grid_area": null,
            "grid_template_columns": null,
            "flex": null,
            "_model_name": "LayoutModel",
            "justify_items": null,
            "grid_row": null,
            "max_height": null,
            "align_content": null,
            "visibility": null,
            "align_self": null,
            "height": null,
            "min_height": null,
            "padding": null,
            "grid_auto_rows": null,
            "grid_gap": null,
            "max_width": null,
            "order": null,
            "_view_module_version": "1.2.0",
            "grid_template_areas": null,
            "object_position": null,
            "object_fit": null,
            "grid_auto_columns": null,
            "margin": null,
            "display": null,
            "left": null
          }
        },
        "7ad417c56c83492a8de9ba8baf2856c4": {
          "model_module": "@jupyter-widgets/controls",
          "model_name": "IntProgressModel",
          "state": {
            "_view_name": "ProgressView",
            "style": "IPY_MODEL_c2edf97bca1e4e0cbe3e96134dac579a",
            "_dom_classes": [],
            "description": "  0%",
            "_model_name": "IntProgressModel",
            "bar_style": "",
            "max": 25000,
            "_view_module": "@jupyter-widgets/controls",
            "_model_module_version": "1.5.0",
            "value": 71,
            "_view_count": null,
            "_view_module_version": "1.5.0",
            "orientation": "horizontal",
            "min": 0,
            "description_tooltip": null,
            "_model_module": "@jupyter-widgets/controls",
            "layout": "IPY_MODEL_f41edac5664f480aa8336be64645b1b9"
          }
        },
        "e5e4f48ae0d54ebca233db4667e86fdf": {
          "model_module": "@jupyter-widgets/controls",
          "model_name": "HTMLModel",
          "state": {
            "_view_name": "HTMLView",
            "style": "IPY_MODEL_f14663c7efa945239bc0dc72fe02b6db",
            "_dom_classes": [],
            "description": "",
            "_model_name": "HTMLModel",
            "placeholder": "​",
            "_view_module": "@jupyter-widgets/controls",
            "_model_module_version": "1.5.0",
            "value": " 71/25000 [00:08&lt;53:29,  7.77it/s]",
            "_view_count": null,
            "_view_module_version": "1.5.0",
            "description_tooltip": null,
            "_model_module": "@jupyter-widgets/controls",
            "layout": "IPY_MODEL_25ceb6da2b4c412fb955dd2b4423cdf4"
          }
        },
        "c2edf97bca1e4e0cbe3e96134dac579a": {
          "model_module": "@jupyter-widgets/controls",
          "model_name": "ProgressStyleModel",
          "state": {
            "_view_name": "StyleView",
            "_model_name": "ProgressStyleModel",
            "description_width": "initial",
            "_view_module": "@jupyter-widgets/base",
            "_model_module_version": "1.5.0",
            "_view_count": null,
            "_view_module_version": "1.2.0",
            "bar_color": null,
            "_model_module": "@jupyter-widgets/controls"
          }
        },
        "f41edac5664f480aa8336be64645b1b9": {
          "model_module": "@jupyter-widgets/base",
          "model_name": "LayoutModel",
          "state": {
            "_view_name": "LayoutView",
            "grid_template_rows": null,
            "right": null,
            "justify_content": null,
            "_view_module": "@jupyter-widgets/base",
            "overflow": null,
            "_model_module_version": "1.2.0",
            "_view_count": null,
            "flex_flow": null,
            "width": null,
            "min_width": null,
            "border": null,
            "align_items": null,
            "bottom": null,
            "_model_module": "@jupyter-widgets/base",
            "top": null,
            "grid_column": null,
            "overflow_y": null,
            "overflow_x": null,
            "grid_auto_flow": null,
            "grid_area": null,
            "grid_template_columns": null,
            "flex": null,
            "_model_name": "LayoutModel",
            "justify_items": null,
            "grid_row": null,
            "max_height": null,
            "align_content": null,
            "visibility": null,
            "align_self": null,
            "height": null,
            "min_height": null,
            "padding": null,
            "grid_auto_rows": null,
            "grid_gap": null,
            "max_width": null,
            "order": null,
            "_view_module_version": "1.2.0",
            "grid_template_areas": null,
            "object_position": null,
            "object_fit": null,
            "grid_auto_columns": null,
            "margin": null,
            "display": null,
            "left": null
          }
        },
        "f14663c7efa945239bc0dc72fe02b6db": {
          "model_module": "@jupyter-widgets/controls",
          "model_name": "DescriptionStyleModel",
          "state": {
            "_view_name": "StyleView",
            "_model_name": "DescriptionStyleModel",
            "description_width": "",
            "_view_module": "@jupyter-widgets/base",
            "_model_module_version": "1.5.0",
            "_view_count": null,
            "_view_module_version": "1.2.0",
            "_model_module": "@jupyter-widgets/controls"
          }
        },
        "25ceb6da2b4c412fb955dd2b4423cdf4": {
          "model_module": "@jupyter-widgets/base",
          "model_name": "LayoutModel",
          "state": {
            "_view_name": "LayoutView",
            "grid_template_rows": null,
            "right": null,
            "justify_content": null,
            "_view_module": "@jupyter-widgets/base",
            "overflow": null,
            "_model_module_version": "1.2.0",
            "_view_count": null,
            "flex_flow": null,
            "width": null,
            "min_width": null,
            "border": null,
            "align_items": null,
            "bottom": null,
            "_model_module": "@jupyter-widgets/base",
            "top": null,
            "grid_column": null,
            "overflow_y": null,
            "overflow_x": null,
            "grid_auto_flow": null,
            "grid_area": null,
            "grid_template_columns": null,
            "flex": null,
            "_model_name": "LayoutModel",
            "justify_items": null,
            "grid_row": null,
            "max_height": null,
            "align_content": null,
            "visibility": null,
            "align_self": null,
            "height": null,
            "min_height": null,
            "padding": null,
            "grid_auto_rows": null,
            "grid_gap": null,
            "max_width": null,
            "order": null,
            "_view_module_version": "1.2.0",
            "grid_template_areas": null,
            "object_position": null,
            "object_fit": null,
            "grid_auto_columns": null,
            "margin": null,
            "display": null,
            "left": null
          }
        }
      }
    }
  },
  "cells": [
    {
      "cell_type": "markdown",
      "metadata": {
        "id": "view-in-github",
        "colab_type": "text"
      },
      "source": [
        "<a href=\"https://colab.research.google.com/github/Subhasishbasak/NLP/blob/master/Sentiment_analysis.ipynb\" target=\"_parent\"><img src=\"https://colab.research.google.com/assets/colab-badge.svg\" alt=\"Open In Colab\"/></a>"
      ]
    },
    {
      "cell_type": "markdown",
      "metadata": {
        "id": "VPTs6ETyAN33",
        "colab_type": "text"
      },
      "source": [
        "# Sentiment_analysis_using_RNN/MDS201803"
      ]
    },
    {
      "cell_type": "code",
      "metadata": {
        "id": "wWVDXVYcAfnI",
        "colab_type": "code",
        "outputId": "cf789427-0a86-4537-aaa4-540d65198157",
        "colab": {
          "base_uri": "https://localhost:8080/",
          "height": 34
        }
      },
      "source": [
        "from google.colab import drive\n",
        "drive.mount('/content/gdrive')\n"
      ],
      "execution_count": 0,
      "outputs": [
        {
          "output_type": "stream",
          "text": [
            "Drive already mounted at /content/gdrive; to attempt to forcibly remount, call drive.mount(\"/content/gdrive\", force_remount=True).\n"
          ],
          "name": "stdout"
        }
      ]
    },
    {
      "cell_type": "code",
      "metadata": {
        "id": "kk7XPW17AN35",
        "colab_type": "code",
        "colab": {}
      },
      "source": [
        "import sys\n",
        "import numpy as np\n",
        "from numpy.random import randn\n",
        "\n",
        "# Only used for data preprocessing\n",
        "import re \n",
        "import nltk\n",
        "from nltk.corpus import stopwords \n",
        "from nltk.stem import WordNetLemmatizer \n",
        "from nltk.stem import PorterStemmer \n",
        "   \n",
        "# Only used for generating summary stats\n",
        "from scipy import stats\n",
        "\n",
        "# Only used for keep tracking on the progress bar\n",
        "from time import sleep\n",
        "from tqdm.notebook import tqdm"
      ],
      "execution_count": 0,
      "outputs": []
    },
    {
      "cell_type": "code",
      "metadata": {
        "id": "ar277hocAN4E",
        "colab_type": "code",
        "outputId": "2d4c9e57-4b1a-4108-c5dd-86987a02a971",
        "colab": {
          "base_uri": "https://localhost:8080/",
          "height": 69
        }
      },
      "source": [
        "nltk.download('stopwords')"
      ],
      "execution_count": 0,
      "outputs": [
        {
          "output_type": "stream",
          "text": [
            "[nltk_data] Downloading package stopwords to /root/nltk_data...\n",
            "[nltk_data]   Unzipping corpora/stopwords.zip.\n"
          ],
          "name": "stdout"
        },
        {
          "output_type": "execute_result",
          "data": {
            "text/plain": [
              "True"
            ]
          },
          "metadata": {
            "tags": []
          },
          "execution_count": 4
        }
      ]
    },
    {
      "cell_type": "code",
      "metadata": {
        "id": "ODFsequkAN4R",
        "colab_type": "code",
        "outputId": "106b7421-bef3-4c31-e88c-d6db395dcc4c",
        "colab": {
          "base_uri": "https://localhost:8080/",
          "height": 69
        }
      },
      "source": [
        "nltk.download('wordnet')"
      ],
      "execution_count": 0,
      "outputs": [
        {
          "output_type": "stream",
          "text": [
            "[nltk_data] Downloading package wordnet to /root/nltk_data...\n",
            "[nltk_data]   Unzipping corpora/wordnet.zip.\n"
          ],
          "name": "stdout"
        },
        {
          "output_type": "execute_result",
          "data": {
            "text/plain": [
              "True"
            ]
          },
          "metadata": {
            "tags": []
          },
          "execution_count": 5
        }
      ]
    },
    {
      "cell_type": "markdown",
      "metadata": {
        "id": "93upqv8fAN4Y",
        "colab_type": "text"
      },
      "source": [
        "### Combining & Merging all the training reviews and test reviews in single files"
      ]
    },
    {
      "cell_type": "code",
      "metadata": {
        "id": "lU1HgmGqAN4Z",
        "colab_type": "code",
        "colab": {}
      },
      "source": [
        "train_data = []\n",
        "for line in open('/content/gdrive/My Drive/movie_data/full_train.txt', 'r'):\n",
        "    train_data.append(line.strip())\n",
        "    \n",
        "test_data = []\n",
        "for line in open('/content/gdrive/My Drive/movie_data/full_test.txt', 'r'):\n",
        "    test_data.append(line.strip())"
      ],
      "execution_count": 0,
      "outputs": []
    },
    {
      "cell_type": "code",
      "metadata": {
        "id": "w27z1MgYAN4f",
        "colab_type": "code",
        "colab": {}
      },
      "source": [
        "# For labels 1 : positive & 0 : negative\n",
        "\n",
        "train_labels = np.concatenate((np.ones(12500),np.zeros(12500))).astype(int)\n",
        "test_labels = np.concatenate((np.ones(12500),np.zeros(12500))).astype(int)"
      ],
      "execution_count": 0,
      "outputs": []
    },
    {
      "cell_type": "markdown",
      "metadata": {
        "id": "bM6hdUi8AN4m",
        "colab_type": "text"
      },
      "source": [
        "### Preprocessing of the data"
      ]
    },
    {
      "cell_type": "markdown",
      "metadata": {
        "id": "aNZgpLrrAN4n",
        "colab_type": "text"
      },
      "source": [
        "After examining the raw corpus, it is observed that the data contains punctuations, symbols etc. Since we are intereted in the english words only we preprocess the data to remove them.\n",
        "\n",
        "Regular Expressions are used for preprocessing of the data"
      ]
    },
    {
      "cell_type": "code",
      "metadata": {
        "id": "ixxyIoPQAN4o",
        "colab_type": "code",
        "colab": {}
      },
      "source": [
        "punctuations = re.compile(\"[!#$%&*.;:!\\'?,\\\"()\\[\\]]\")\n",
        "symbols = re.compile(\"(\\-)|(\\/)|(<br\\s*/><br\\s*/>)\")                          \n",
        "\n",
        "# The following function removes all punctuations & symbols/syntax from the data\n",
        "# also makes the data lower case\n",
        "\n",
        "def preprocess(data):\n",
        "    \n",
        "    output = []\n",
        "    for reviews in data:\n",
        "        reviews = punctuations.sub(\"\", reviews)\n",
        "        reviews = symbols.sub(\"\", reviews)\n",
        "        reviews = reviews.lower()\n",
        "        output.append(reviews)\n",
        "        \n",
        "    return output\n",
        "\n",
        "processed_train = preprocess(train_data)\n",
        "processed_test = preprocess(test_data)"
      ],
      "execution_count": 0,
      "outputs": []
    },
    {
      "cell_type": "markdown",
      "metadata": {
        "id": "rIfn1dmgAN4t",
        "colab_type": "text"
      },
      "source": [
        "### Removing the stopwords"
      ]
    },
    {
      "cell_type": "markdown",
      "metadata": {
        "id": "25u9_hM_AN4u",
        "colab_type": "text"
      },
      "source": [
        "Words having too high or too low frequencies are of no use in our study. Most commonly occuring words like \"the\", \"a\" etc are present in all the reviews and contribute nothing in our analysis. Similarly there are some rare words also which have no discriminating power. We remove all such words."
      ]
    },
    {
      "cell_type": "code",
      "metadata": {
        "id": "TD4FObFbAN4v",
        "colab_type": "code",
        "outputId": "aefb45b2-96ad-4e2a-e53c-15f6d4e507ed",
        "colab": {
          "base_uri": "https://localhost:8080/",
          "height": 34
        }
      },
      "source": [
        "combined_text_train = ' '.join(processed_train)\n",
        "combined_text_test = ' '.join(processed_test)\n",
        "combined_text = combined_text_train + combined_text_test\n",
        "\n",
        "word_list = combined_text.split()\n",
        "\n",
        "print(\"Total number of words in our corpus : \",len(word_list))"
      ],
      "execution_count": 0,
      "outputs": [
        {
          "output_type": "stream",
          "text": [
            "Total number of words in our corpus :  11313560\n"
          ],
          "name": "stdout"
        }
      ]
    },
    {
      "cell_type": "code",
      "metadata": {
        "id": "P-EFBoUJAN4z",
        "colab_type": "code",
        "colab": {}
      },
      "source": [
        "stop_words = set(stopwords.words('english')) "
      ],
      "execution_count": 0,
      "outputs": []
    },
    {
      "cell_type": "code",
      "metadata": {
        "id": "XOprVXAAAN44",
        "colab_type": "code",
        "colab": {}
      },
      "source": [
        "word_list_new = []\n",
        "for i in word_list:\n",
        "    if i not in stop_words:\n",
        "        word_list_new.append(i)"
      ],
      "execution_count": 0,
      "outputs": []
    },
    {
      "cell_type": "markdown",
      "metadata": {
        "id": "WlEob376AN49",
        "colab_type": "text"
      },
      "source": [
        "### Lemmatizing the words"
      ]
    },
    {
      "cell_type": "code",
      "metadata": {
        "id": "Yw5yACl1AN4-",
        "colab_type": "code",
        "colab": {}
      },
      "source": [
        "lemmatizer = WordNetLemmatizer() \n",
        "\n",
        "word_list_lem = []\n",
        "for word in word_list_new:\n",
        "    word_list_lem.append(lemmatizer.lemmatize(word.lower()))"
      ],
      "execution_count": 0,
      "outputs": []
    },
    {
      "cell_type": "code",
      "metadata": {
        "id": "A1DOS4OCAN5C",
        "colab_type": "code",
        "outputId": "5f2cc37e-ab64-4979-8100-57c17fa67bce",
        "colab": {
          "base_uri": "https://localhost:8080/",
          "height": 34
        }
      },
      "source": [
        "print(\"So we are able to reduce our vocab size by \" + str(len(set(word_list_new))-len(set(word_list_lem))) + \" using lemmatization\")"
      ],
      "execution_count": 0,
      "outputs": [
        {
          "output_type": "stream",
          "text": [
            "So we are able to reduce our vocab size by 11169 using lemmatization\n"
          ],
          "name": "stdout"
        }
      ]
    },
    {
      "cell_type": "markdown",
      "metadata": {
        "id": "aQ3GuLTpAN5I",
        "colab_type": "text"
      },
      "source": [
        "### Stemming the words"
      ]
    },
    {
      "cell_type": "code",
      "metadata": {
        "id": "VoaXKiMHAN5J",
        "colab_type": "code",
        "colab": {}
      },
      "source": [
        "ps = PorterStemmer() \n",
        "  \n",
        "word_list_stem = []\n",
        "for word in word_list_lem:\n",
        "    word_list_stem.append(ps.stem(word))    "
      ],
      "execution_count": 0,
      "outputs": []
    },
    {
      "cell_type": "code",
      "metadata": {
        "id": "-xFbI2xfAN5N",
        "colab_type": "code",
        "outputId": "11dc98d0-b0e4-45e0-c1ef-7315345c3865",
        "colab": {
          "base_uri": "https://localhost:8080/",
          "height": 34
        }
      },
      "source": [
        "print(\"So we are able to reduce our vocab size by \" + str(len(set(word_list_lem))-len(set(word_list_stem))) + \" using stemming\")"
      ],
      "execution_count": 0,
      "outputs": [
        {
          "output_type": "stream",
          "text": [
            "So we are able to reduce our vocab size by 29027 using stemming\n"
          ],
          "name": "stdout"
        }
      ]
    },
    {
      "cell_type": "markdown",
      "metadata": {
        "id": "LxNEbWFbAN5S",
        "colab_type": "text"
      },
      "source": [
        "### Tokenizing the words"
      ]
    },
    {
      "cell_type": "code",
      "metadata": {
        "id": "h2AgTfvXAN5T",
        "colab_type": "code",
        "colab": {}
      },
      "source": [
        "# Identifying the unique words and sorting them w.r.t their counts\n",
        "\n",
        "# Dictionary of the unique words along with their counts\n",
        "vocab_dict = {}\n",
        "\n",
        "for i in word_list_stem:\n",
        "    try:\n",
        "        vocab_dict[i] += 1\n",
        "    except KeyError:\n",
        "        vocab_dict[i] = 1\n",
        "\n",
        "# Sorting the vocab_dict w.r.t their counts        \n",
        "vocab_dict_sorted = {k: v for k, v in sorted(vocab_dict.items(), key=lambda item: item[1], reverse=True)}"
      ],
      "execution_count": 0,
      "outputs": []
    },
    {
      "cell_type": "markdown",
      "metadata": {
        "id": "w3DahGBIAN5X",
        "colab_type": "text"
      },
      "source": [
        "### Filtering words"
      ]
    },
    {
      "cell_type": "markdown",
      "metadata": {
        "id": "EQiY-YYlAN5Y",
        "colab_type": "text"
      },
      "source": [
        "Here we remove the words with extreme low frequency"
      ]
    },
    {
      "cell_type": "code",
      "metadata": {
        "id": "jHh4v-v7AN5Y",
        "colab_type": "code",
        "outputId": "cc5e6ff5-4118-45fa-e96c-630daa1bc8ef",
        "colab": {
          "base_uri": "https://localhost:8080/",
          "height": 34
        }
      },
      "source": [
        "freq_list = []\n",
        "for i in enumerate(vocab_dict_sorted):\n",
        "    freq_list.append(vocab_dict_sorted[i[1]])\n",
        "    \n",
        "# summary statistics for the frequency distributions of the words    \n",
        "stats.describe(np.array(freq_list))"
      ],
      "execution_count": 0,
      "outputs": [
        {
          "output_type": "execute_result",
          "data": {
            "text/plain": [
              "DescribeResult(nobs=184069, minmax=(1, 98933), mean=32.56473387697005, variance=285532.9681308725, skewness=86.03721368463076, kurtosis=12502.3455189253)"
            ]
          },
          "metadata": {
            "tags": []
          },
          "execution_count": 17
        }
      ]
    },
    {
      "cell_type": "code",
      "metadata": {
        "id": "HPjU9GlGAN5d",
        "colab_type": "code",
        "outputId": "cef9b9bb-099a-4dd5-96fa-4c00e7067cde",
        "colab": {
          "base_uri": "https://localhost:8080/",
          "height": 34
        }
      },
      "source": [
        "np.sum(freq_list[:5000])/np.sum(freq_list)"
      ],
      "execution_count": 0,
      "outputs": [
        {
          "output_type": "execute_result",
          "data": {
            "text/plain": [
              "0.8655294037961628"
            ]
          },
          "metadata": {
            "tags": []
          },
          "execution_count": 18
        }
      ]
    },
    {
      "cell_type": "markdown",
      "metadata": {
        "id": "aZjL45odAN5h",
        "colab_type": "text"
      },
      "source": [
        "Thus we can see that the top $5k$ most frequent words account for $86\\%$ of the total frequency. Hence in order to reduce computation time and increase efficienc we restrict our vocabulary to $5k$ words only."
      ]
    },
    {
      "cell_type": "code",
      "metadata": {
        "id": "xDfvMrU1AN5i",
        "colab_type": "code",
        "colab": {}
      },
      "source": [
        "vocab_dict_new = {}\n",
        "count = 0\n",
        "for i in vocab_dict_sorted.keys():\n",
        "    vocab_dict_new[i] = vocab_dict_sorted[i]\n",
        "    count += 1\n",
        "    if count >= 4999:\n",
        "        break"
      ],
      "execution_count": 0,
      "outputs": []
    },
    {
      "cell_type": "code",
      "metadata": {
        "id": "6LFDNsinAN5l",
        "colab_type": "code",
        "outputId": "0e81f0e3-4618-4404-effd-8475aa07d704",
        "colab": {
          "base_uri": "https://localhost:8080/",
          "height": 34
        }
      },
      "source": [
        "# Mapping each unique word to integers starting from 1\n",
        "vocab_int_mapping = {c:w+1 for (w,c) in enumerate(vocab_dict_new)}\n",
        "\n",
        "print(\"Total number of unique words in our corpus : \",len(vocab_int_mapping))"
      ],
      "execution_count": 0,
      "outputs": [
        {
          "output_type": "stream",
          "text": [
            "Total number of unique words in our corpus :  4999\n"
          ],
          "name": "stdout"
        }
      ]
    },
    {
      "cell_type": "markdown",
      "metadata": {
        "id": "6MvGYsN8AN5q",
        "colab_type": "text"
      },
      "source": [
        "### Encoding the reviews"
      ]
    },
    {
      "cell_type": "code",
      "metadata": {
        "id": "W9n7sXQGAN5r",
        "colab_type": "code",
        "colab": {}
      },
      "source": [
        "# Encoding each word in the reviews by their corresponding token numbers/indices\n",
        "# encoded_reviews is a list of list, where each sub-list contains the reviews which are encoded\n",
        "\n",
        "def encode(data):\n",
        "    \n",
        "    encoded_reviews = []\n",
        "\n",
        "    for review in data:\n",
        "\n",
        "        r = []\n",
        "        for word in review.split():\n",
        "            try:\n",
        "                r.append(vocab_int_mapping[word])\n",
        "            except KeyError:\n",
        "                pass\n",
        "        encoded_reviews.append(r)\n",
        "    \n",
        "    return encoded_reviews\n",
        "    \n",
        "encoded_reviews_train = encode(processed_train)\n",
        "encoded_reviews_test = encode(processed_test)"
      ],
      "execution_count": 0,
      "outputs": []
    },
    {
      "cell_type": "markdown",
      "metadata": {
        "id": "_WJq_VWMAN5u",
        "colab_type": "text"
      },
      "source": [
        "### Resizing reviews"
      ]
    },
    {
      "cell_type": "markdown",
      "metadata": {
        "id": "VsqyedaqAN5v",
        "colab_type": "text"
      },
      "source": [
        "In order to input the review vectors in a RNN we need all of them of the same size, i.e. this sequence length is same as number of time steps for the RNN. To deal with both short and long reviews, we will pad the small ones and  truncate all the large reviews to a specific length. We denote this length by **review_length** .<br>\n",
        "For reviews shorter than *review_length*, we will pad with 0s. For reviews longer than *review_length* we will truncate them to the first *review_length* words."
      ]
    },
    {
      "cell_type": "code",
      "metadata": {
        "id": "UQBwHnmrAN5v",
        "colab_type": "code",
        "outputId": "8143c682-a783-4785-b9e7-dd4bffd8f81f",
        "colab": {
          "base_uri": "https://localhost:8080/",
          "height": 34
        }
      },
      "source": [
        "train_review_len = []\n",
        "for i in encoded_reviews_train:\n",
        "    train_review_len.append(len(i))\n",
        "\n",
        "stats.describe(np.array(train_review_len))"
      ],
      "execution_count": 0,
      "outputs": [
        {
          "output_type": "execute_result",
          "data": {
            "text/plain": [
              "DescribeResult(nobs=25000, minmax=(1, 784), mean=68.08048, variance=2589.7879144861795, skewness=2.1846289316690877, kurtosis=7.3331451151791835)"
            ]
          },
          "metadata": {
            "tags": []
          },
          "execution_count": 22
        }
      ]
    },
    {
      "cell_type": "markdown",
      "metadata": {
        "id": "UZLFjXPoAN56",
        "colab_type": "text"
      },
      "source": [
        "Hence, we take *review_length* = 300.<br>\n",
        "modifying all the reviews w.r.t the review_length."
      ]
    },
    {
      "cell_type": "code",
      "metadata": {
        "id": "x6D-tbzUAN57",
        "colab_type": "code",
        "colab": {}
      },
      "source": [
        "review_length = 300\n",
        "\n",
        "# This function truncates or pads the reviews as necessary based on their lengths\n",
        "def resize(data):\n",
        "    \n",
        "    features = []\n",
        "    \n",
        "    for i in data:\n",
        "\n",
        "        if len(i)>review_length:\n",
        "            features.append(i[:review_length])\n",
        "        else:\n",
        "            features.append([0]*(review_length-len(i)) + i)\n",
        "    return features\n",
        "\n",
        "\n",
        "features_train = resize(encoded_reviews_train)\n",
        "features_test = resize(encoded_reviews_test)"
      ],
      "execution_count": 0,
      "outputs": []
    },
    {
      "cell_type": "markdown",
      "metadata": {
        "id": "8m5ydtV6AN6A",
        "colab_type": "text"
      },
      "source": [
        "### Creating Inputs"
      ]
    },
    {
      "cell_type": "markdown",
      "metadata": {
        "id": "nE9UjMU9AN6A",
        "colab_type": "text"
      },
      "source": [
        "So far we have converted te reviews into list of integers which denotes the index of the pericular word in the vocabulary. Now to input a review into the Neural Network we need to encode each word using One Hot Encoding. Since we have $5000$ unique words in our vocabulary , each word in the review will be represented as a vector of size $5000 \\times 1$."
      ]
    },
    {
      "cell_type": "code",
      "metadata": {
        "id": "Ur0nyEfwAN6B",
        "colab_type": "code",
        "colab": {}
      },
      "source": [
        "def one_hot_encoding(review):\n",
        "    \n",
        "    vocab_size = 5000\n",
        "    inputs = []\n",
        "    \n",
        "    for w in review:\n",
        "       \n",
        "        v = np.zeros((vocab_size, 1))\n",
        "        v[w] = 1\n",
        "        inputs.append(v)\n",
        "    \n",
        "    return inputs"
      ],
      "execution_count": 0,
      "outputs": []
    },
    {
      "cell_type": "markdown",
      "metadata": {
        "id": "kbHOTwEjAN6F",
        "colab_type": "text"
      },
      "source": [
        "### Building the RNN"
      ]
    },
    {
      "cell_type": "code",
      "metadata": {
        "id": "x2-Vp2UiAN6G",
        "colab_type": "code",
        "colab": {}
      },
      "source": [
        "class RNN:\n",
        "\n",
        "    def __init__(self, input_size, output_size, hidden_size=10):\n",
        "        \n",
        "        # Initializaing the weights randomly from uniform distribution\n",
        "        self.Wh = np.random.uniform(-np.sqrt(1./input_size), np.sqrt(1./input_size), (hidden_size, hidden_size))\n",
        "        self.Wx = np.random.uniform(-np.sqrt(1./input_size), np.sqrt(1./input_size), (hidden_size, input_size))\n",
        "        self.Wy = np.random.uniform(-np.sqrt(1./input_size), np.sqrt(1./input_size), (output_size, hidden_size))\n",
        "\n",
        "        # Initializing the biases to zero np arrays\n",
        "        self.bh = np.zeros((hidden_size, 1))\n",
        "        self.by = np.zeros((output_size, 1))\n",
        "    \n",
        "    def forward(self, inputs):\n",
        "        \n",
        "        # Here the function takes a singe review\n",
        "        # input is a list of length 300 & vocab_size is 5000\n",
        "        # each element of the input list is one_hot_vector of size (vocab_size, 1)\n",
        "        \n",
        "        # initializing the Zero-th hidden layer (one corresponding to 0-th time stamp)\n",
        "        h = np.zeros((self.Wh.shape[0], 1))\n",
        "        \n",
        "        # List for storing the hidden layer units\n",
        "        self.hidden_layer = list()\n",
        "        \n",
        "        # storing the inputs and the initial hidden layer for future use\n",
        "        self.inputs = inputs\n",
        "        self.hidden_layer.append(h)\n",
        "        \n",
        "        # Performing the forward pass for each time step \n",
        "        for i, j in enumerate(inputs):\n",
        "\n",
        "            h = np.tanh(np.matmul(self.Wx, j) + np.matmul(self.Wh, h) + self.bh)\n",
        "            self.hidden_layer.append(h)\n",
        "\n",
        "        # Final computation of the output using the last hidden layer\n",
        "        output = np.matmul(self.Wy, h) + self.by\n",
        "        \n",
        "        # Softmax Function for the output array.\n",
        "        # Outputs 2-class probabilities which sums up to 1\n",
        "        return np.exp(output) / sum(np.exp(output))\n",
        "    \n",
        "    \n",
        "    def BPTT(self, d_y, rate=0.2, bounds = [-1.5, 1.5]):\n",
        "        \n",
        "        # This function performs backpropagation through time (BPTT)\n",
        "        # Initialization : Derivative arrays initialized to zero \n",
        "        d_Wh = np.zeros(self.Wh.shape)\n",
        "        d_Wx = np.zeros(self.Wx.shape)\n",
        "        d_bh = np.zeros(self.bh.shape)\n",
        "        \n",
        "        # Direct computations \n",
        "\n",
        "        d_Wy = np.matmul(d_y, self.hidden_layer[len(self.inputs)].T)\n",
        "        d_by = d_y\n",
        "        d_h = np.matmul(self.Wy.T, d_y)\n",
        "\n",
        "        # Updating the gradients\n",
        "\n",
        "        self.Wy -= rate * np.clip(d_Wy, a_min=bounds[0], a_max=bounds[1])\n",
        "        self.by -= rate * np.clip(d_by, a_min=bounds[0], a_max=bounds[1])\n",
        "\n",
        "        # recursive computations\n",
        "        \n",
        "        for i in range(len(self.inputs))[::-1]:\n",
        "\n",
        "            d_Wh += np.matmul(((1 - np.square(self.hidden_layer[i + 1]))*d_h), self.hidden_layer[i].T)\n",
        "            d_Wx += np.matmul(((1 - np.square(self.hidden_layer[i + 1]))*d_h), self.inputs[i].T)\n",
        "            d_bh += ((1 - np.square(self.hidden_layer[i + 1]))*d_h)\n",
        "            d_h = np.matmul(self.Wh, ((1 - np.square(self.hidden_layer[i + 1]))*d_h))  \n",
        "\n",
        "        # Updating the gradients\n",
        "        \n",
        "        self.Wh -= rate * np.clip(d_Wh, a_min=bounds[0], a_max=bounds[1])\n",
        "        self.Wx -= rate * np.clip(d_Wx, a_min=bounds[0], a_max=bounds[1])\n",
        "        self.bh -= rate * np.clip(d_bh, a_min=bounds[0], a_max=bounds[1])\n",
        "        \n",
        "        "
      ],
      "execution_count": 0,
      "outputs": []
    },
    {
      "cell_type": "code",
      "metadata": {
        "scrolled": true,
        "id": "wqwJ3p9fAN6K",
        "colab_type": "code",
        "colab": {}
      },
      "source": [
        "def run_RNN(features, labels, training=True):\n",
        "\n",
        "    # The \"training\" flag is used to indicate whether to update the hyperparameters using backpropagation or not\n",
        "    # We denote, (dL/dy) : d_y  it has shape (output_size, 1).\n",
        "    # dL/dy = p_i     , if i != c\n",
        "    #         p_i - 1 , if i == c\n",
        "\n",
        "    loss = 0\n",
        "    correct_pred = 0\n",
        "    \n",
        "    # Randomly picking up the training data\n",
        "    l = np.arange(len(features))\n",
        "    # Shuffelling is needed so that te inputs are randomly fed to the network\n",
        "    np.random.shuffle(l)\n",
        "    \n",
        "    with tqdm(total=len(features), file=sys.stdout) as pbar:\n",
        "        \n",
        "        for i in l:\n",
        "\n",
        "            # Probability computation\n",
        "            probs = rnn.forward(one_hot_encoding(features[i]))\n",
        "\n",
        "            # loss & accuracy\n",
        "            loss -= np.log(probs[labels[i]])\n",
        "\n",
        "            if np.argmax(probs) == labels[i]:\n",
        "                correct_pred += 1\n",
        "\n",
        "            if training:\n",
        "\n",
        "                d_y = probs\n",
        "                d_y[labels[i]] = d_y[labels[i]] - 1\n",
        "                rnn.BPTT(d_y, rate=0.2, bounds = [-1.5, 1.5])\n",
        "            \n",
        "            # for updating the tqdm progress bar\n",
        "            pbar.update(1)\n",
        "\n",
        "    # computing loss & accuracy\n",
        "\n",
        "    loss_func = loss / len(features)\n",
        "    accuracy = correct_pred / len(features)\n",
        "            \n",
        "    return loss_func, accuracy "
      ],
      "execution_count": 0,
      "outputs": []
    },
    {
      "cell_type": "code",
      "metadata": {
        "id": "ly3HJfnzAN6N",
        "colab_type": "code",
        "colab": {}
      },
      "source": [
        "np.random.seed(seed=1)\n",
        "\n",
        "# Initialize the RNN class\n",
        "rnn = RNN(5000, 2)"
      ],
      "execution_count": 0,
      "outputs": []
    },
    {
      "cell_type": "code",
      "metadata": {
        "id": "eBFyUhE9AN6Q",
        "colab_type": "code",
        "outputId": "8d03f1ff-4fbf-48b1-ce29-103b886355ab",
        "colab": {
          "base_uri": "https://localhost:8080/",
          "height": 217,
          "referenced_widgets": [
            "6f85d8461dbf442f802787bfe4725a2d",
            "0fc5a246e1874fea8d49ed47a0b55fe1",
            "d1bf9b8cec7c49ef9535aefb4801c96e",
            "ca92dd0ceed241d4abf22e796c917343",
            "3fc38e85ec9045988f787fdcb956a8ac",
            "e7c14601404c40a081a82e3d5ead99d8",
            "31330c9c0fb3418b96f12f5b961c110e",
            "c4741a9c5a7a492e90b281df7331f6ed",
            "699ed8d30f1441daa7b7f751001b270f",
            "a9224877838c4eb686b1c4646a1abba8",
            "8ff370890d0f4ef2964138d3433b3cb5",
            "e72f3423e33e409f9414017f5c3ee8aa",
            "5eab6b3c10434f2684876cfcf02109e2",
            "e546e149df5944109baca791d6f1d87f",
            "4ba7adbe4e7744ddb6ca7c4ec90a505f",
            "350d0af6beef457abe6045e012334ffe",
            "0fb42f4eb1794595ac0200057a95037a",
            "439170b799a047839f727f764490c290",
            "7ad417c56c83492a8de9ba8baf2856c4",
            "e5e4f48ae0d54ebca233db4667e86fdf",
            "c2edf97bca1e4e0cbe3e96134dac579a",
            "f41edac5664f480aa8336be64645b1b9",
            "f14663c7efa945239bc0dc72fe02b6db",
            "25ceb6da2b4c412fb955dd2b4423cdf4"
          ]
        }
      },
      "source": [
        "for epoch in range(5):\n",
        "    print('Epoch Number : ',(epoch + 1))\n",
        "\n",
        "    train_loss, train_acc = run_RNN(features_train, train_labels)\n",
        "    test_loss, test_acc = run_RNN(features_test, test_labels, training=False)\n",
        "    \n",
        "    print('Training Loss : %f and Training Accuracy : %f' % (train_loss, train_acc))\n",
        "    print('Test Loss : %f and Test Accuracy : %f' % (test_loss, test_acc))"
      ],
      "execution_count": 0,
      "outputs": [
        {
          "output_type": "stream",
          "text": [
            "Epoch Number :  1\n"
          ],
          "name": "stdout"
        },
        {
          "output_type": "display_data",
          "data": {
            "application/vnd.jupyter.widget-view+json": {
              "model_id": "6f85d8461dbf442f802787bfe4725a2d",
              "version_minor": 0,
              "version_major": 2
            },
            "text/plain": [
              "HBox(children=(IntProgress(value=0, max=25000), HTML(value='')))"
            ]
          },
          "metadata": {
            "tags": []
          }
        },
        {
          "output_type": "stream",
          "text": [
            "\n"
          ],
          "name": "stdout"
        },
        {
          "output_type": "display_data",
          "data": {
            "application/vnd.jupyter.widget-view+json": {
              "model_id": "699ed8d30f1441daa7b7f751001b270f",
              "version_minor": 0,
              "version_major": 2
            },
            "text/plain": [
              "HBox(children=(IntProgress(value=0, max=25000), HTML(value='')))"
            ]
          },
          "metadata": {
            "tags": []
          }
        },
        {
          "output_type": "stream",
          "text": [
            "\n",
            "Training Loss : 0.795744 and Training Accuracy : 0.517760\n",
            "Test Loss : 1.078472 and Test Accuracy : 0.499920\n",
            "Epoch Number :  2\n"
          ],
          "name": "stdout"
        },
        {
          "output_type": "display_data",
          "data": {
            "application/vnd.jupyter.widget-view+json": {
              "model_id": "0fb42f4eb1794595ac0200057a95037a",
              "version_minor": 0,
              "version_major": 2
            },
            "text/plain": [
              "HBox(children=(IntProgress(value=0, max=25000), HTML(value='')))"
            ]
          },
          "metadata": {
            "tags": []
          }
        }
      ]
    },
    {
      "cell_type": "code",
      "metadata": {
        "id": "pH7nGn-wwgAM",
        "colab_type": "code",
        "colab": {}
      },
      "source": [
        ""
      ],
      "execution_count": 0,
      "outputs": []
    }
  ]
}